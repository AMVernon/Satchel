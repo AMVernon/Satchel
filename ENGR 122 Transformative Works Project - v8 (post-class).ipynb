{
 "cells": [
  {
   "cell_type": "markdown",
   "metadata": {},
   "source": [
    "## Transformative Work Sites: Popularity Comparison Project\n",
    "### Rough Draft  - Version 8 (POST-CLASS)\n",
    "Purpose: To compare the popularity of different fandoms on different sites, over a period of time  \n",
    "Name(s): Alexis Vernon  \n",
    "Date Created: 28 October 2019  \n",
    "Last Updated: 6 January 2020"
   ]
  },
  {
   "cell_type": "markdown",
   "metadata": {},
   "source": [
    "### Project Proposal\n",
    "The proposal should address the following areas:  \n",
    "     What problem are you solving?  \n",
    "     What is the hypothesis or question addressed  \n",
    "     Why the problem is worth solving/answering  \n",
    "     What is the impact on society, industry, etc. if this problem is solved.  \n",
    "     Where can you find data?  \n",
    "     What needs to be done with the data to address the problem?  \n",
    "     What models can be developed to answer the question, or provide predictions?  \n",
    "     How can you demonstrate the project success?    \n",
    "     What resources are required beyond a computer and the internet?  \n",
    "     \n",
    "I am unsure about my proposed project, but this was the one that I was most intereted in. Despite how it might not help me find a job in the future, it is something I am excited to research more about. I was interested in what fandoms are most popular and most active on which sites such fictional text written by fans of any work of fiction\n",
    "  \n",
    "1- FanFiction Sites (Fandom Statistics)  \n",
    "One of the ideas for a project I was interested in was exmining fictional fan written works, commonly known as fanfiction, and seeing what fandoms (subculture group of fans around a particular work) are most popular and most active on which sites. Some of the siyes I would be examining would be popular sites such as Fanfiction.net, Archiveofourown.org, and Wattpad. There are a few others but these are the main three that I want to focus on examining. I would get data from this by web-scraping these sites, possibly over a (relatively short) period of time.\n",
    "  \n",
    "There are multiple sites that host fanfiction but some are more popular with certain fandoms than others, so I want to identify them.  \n",
    "  \n",
    "Answering this question would probably not have much of an impact on society, industry in the traditional sense for a variety of reasons. Fanfiction does have a stigma associated with it and there is not much common understanding or easy acceptance of it. There is more understanding and acceptance towards it in recent years, but not enough that I could say that it benefitted mainstream society. Fanfiction would not really benefit industry economically (outside of maybe focusing certain marketing to specific sites) because they are free works. However, this project could mainly benefit those who are looking for works in their fandom to read and where the ‘best’ or most popular place to read it would be. There is also not a lot of data about fanfiction trends in general so I think that this would be a good start to gathering that for possible research so hopefully it will be treated more seriously in the future.  \n",
    "\n",
    "In order to get my answer I would need to get the number of works in each fandom on each site, and compare that over a period of time. (EX: 400 K works of Naruto stories on Fanfiction.net vs 300 K works of Naruto stories on ArchiveOfOurOwn.net on Date 1)\n",
    "  \n",
    "Because there are so many different fandoms, and so many numbers of work, across multiple sites I would need to utilise data frames. One way to demonstrate this data and get my answer to what sites are the most popular for what fandom could be a line graph displaying multiple lines. There are too many different fandoms to possibly do all of them at once, on one chart, so to model the data comparing three different sites over a period time would have to be a specific fandom. I could demonstrate my projects sucess if I can do this.\n",
    "  \n",
    "I am not sure what possible resources that I would need beyond a computer and the internet, except maybe an open mind?"
   ]
  },
  {
   "cell_type": "code",
   "execution_count": null,
   "metadata": {},
   "outputs": [],
   "source": [
    "# INSTALL PACKAGES\n",
    "install.packages(\"syuzhet\")\n",
    "install.packages(\"selectr\")\n",
    "install.packages(\"textclean\")"
   ]
  },
  {
   "cell_type": "code",
   "execution_count": null,
   "metadata": {},
   "outputs": [],
   "source": [
    "# IMPORT LIBRARIES\n",
    "library(xml2)\n",
    "library(rvest)\n",
    "library(syuzhet)\n",
    "library(stringr)\n",
    "library(textclean)"
   ]
  },
  {
   "cell_type": "markdown",
   "metadata": {},
   "source": [
    "### Functions"
   ]
  },
  {
   "cell_type": "code",
   "execution_count": null,
   "metadata": {},
   "outputs": [],
   "source": [
    "## FUNCTIONS ##\n",
    "\n",
    "# BOTH Websites\n",
    "only_latin <- function(List){\n",
    "    # gets rid of non ASCII characters (ex. Japanese characters)\n",
    "    x <- List\n",
    "    Encoding(x) <- \"latin1\"\n",
    "    x <- iconv(x, \"latin1\", \"ASCII\", sub=\"\")\n",
    "    return(x)\n",
    "}\n",
    "only_latin1 <- function(List){\n",
    "    # gets rid of non ASCII characters (ex. Japanese characters)\n",
    "    x <- List\n",
    "    Encoding(x) <- \"latin1\"\n",
    "    x <- iconv(x, from=\"UTF-8\", to=\"LATIN1\", sub=\"\")\n",
    "    return(x)\n",
    "}\n",
    "\n",
    "num_fandoms <- function(df){\n",
    "    length(df$FANDOM)\n",
    "}\n",
    "\n",
    "\n",
    "# ArchiveOfOurOwn.org FUNCTIONS\n",
    "\n",
    "get_fandoms <- function(html){\n",
    "    # gets both the fandom name and the number of works\n",
    "    html %>% html_nodes(\".tags.index.group\") %>% html_text() %>%\n",
    "    unlist()\n",
    "}\n",
    "\n",
    "\n",
    "do_for_meA <- function(ao3urlA){\n",
    "    # \"takes in an Ao3 url page and returns a data.frame\"\n",
    "\n",
    "#read_html\n",
    "ao3pageA <- read_html(ao3urlA)\n",
    "\n",
    "# create lists\n",
    "ao3_listA = get_fandomsA(ao3pageA)\n",
    "fandoms = c()\n",
    "amounts = c()\n",
    "\n",
    "#remove whitespace\n",
    "for (i in length(ao3_listA)){\n",
    "    #str_split(string, pattern, [n: optional])\n",
    "    #str_split_fixed(string, pattern, n)\n",
    "    #listA2 <- str_split(ao3_listA, \"\\n              \")\n",
    "    ao3_listA2 <- gsub(\"\\n\", \"\", ao3_listA)    # remove?\n",
    "    ao3_listA2 <- gsub(\"   \", \"\", ao3_listA)   # remove?\n",
    "    ao3_listA2 <- gsub(\"  \", \"\", ao3_listA)\n",
    "} \n",
    "\n",
    "# merge into one list \n",
    "ao3_allA <- paste(ao3_listA2, collapse=', ' )\n",
    "#ao3_allA\n",
    "\n",
    "# Split list into individual fandoms\n",
    "x <- strsplit(ao3_allA, \"\\n\\n\") #str_split_fixed(string, pattern, n)\n",
    "x <- unlist(x)\n",
    "#x\n",
    "\n",
    "# divide into seperate vectors (fandom vector & work vector)\n",
    "fandom = c()\n",
    "works = c()\n",
    "for (i in 1:length(x)) {\n",
    "    # test if gets all in list range\n",
    "    # print(x[i])\n",
    "    \n",
    "    # split fandom and work\n",
    "    doe <- x[i]\n",
    "    ray <- strsplit(doe, \"\\n\" )\n",
    "    me <- unlist(ray)\n",
    "    \n",
    "    fandom <- c(fandom, me[2])\n",
    "    fandom <- only_latin(fandom)\n",
    "    # number of works, converted to numeric type\n",
    "    works <- c(works, me[3])\n",
    "    works <- as.numeric(str_remove_all(works, \"[()]\"))\n",
    "    \n",
    "}\n",
    "\n",
    "ao3A <- data.frame(FANDOM=fandom, AO3.WORKS = works, stringsAsFactors=FALSE)\n",
    "return(ao3A)\n",
    "\n",
    "}\n",
    "\n",
    "# MORE FUNCTIONS!!!!!!!!!!!!!!!!!!!!!!!\n",
    "\n",
    "# Functions\n",
    "get_all <- function(html){\n",
    "    # gets both the fandom name and the number of works\n",
    "    html %>% html_nodes(\".tags.index.group\") %>% html_text() %>%\n",
    "    unlist()\n",
    "}\n",
    "\n",
    "clean_string <- function(ao3_list){\n",
    "    # purpose: to remove extra white space and \"\\n\", and merge into one string\n",
    "    for (i in length(ao3_list)){\n",
    "        # remove white spacces\n",
    "        ao3_list2 <- gsub(\"\\n\", \"\", ao3_list)     # remove?\n",
    "        ao3_list2 <- gsub(\"   \", \"\", ao3_list)    # remove?\n",
    "        ao3_list2 <- gsub(\"  \", \"\", ao3_list)\n",
    "        }\n",
    "    # merge into one list\n",
    "    one_string <- paste(ao3_list2, collapse=', ' )\n",
    "    one_string\n",
    "}\n",
    "\n",
    "clean_split <- function(one_string){\n",
    "    # Split list into individual fandoms\n",
    "    x <- strsplit(one_string, \"\\n\\n\") #str_split_fixed(string, pattern, n)\n",
    "    x <- unlist(x)\n",
    "    return(x)\n",
    "    # returns a vector or strings, each one a string of \"\\nfandom\\n(#)\"\n",
    "}\n",
    "\n",
    "only_fandoms <- function(groups){\n",
    "    # Split list into individual fandoms\n",
    "    fandom = c()\n",
    "    for (i in 1:(length(groups))) {   \n",
    "        # split fandom and work\n",
    "        doe <- groups[i]\n",
    "        ray <- strsplit(doe, \"\\n\")\n",
    "        me <- unlist(ray)\n",
    "        fandom <- c(fandom, me[2])\n",
    "        fandom <- only_latin(fandom)\n",
    "\n",
    "    }\n",
    "    return(fandom)\n",
    "}\n",
    "\n",
    "only_works <- function(groups){\n",
    "    # \n",
    "    works = c()\n",
    "    for (i in 1:(length(groups))) {\n",
    "        doe <- groups[i]\n",
    "        ray <- strsplit(doe, \"\\n\" )\n",
    "        me <- unlist(ray)\n",
    "        works <- c(works, me[3])\n",
    "    }\n",
    "    works <- as.numeric(str_remove_all(works, \"[()]\")) # number of works, converted to numeric type\n",
    "    return(works)\n",
    "}"
   ]
  },
  {
   "cell_type": "code",
   "execution_count": null,
   "metadata": {},
   "outputs": [],
   "source": [
    "# FanFiction.net Functions\n",
    "\n",
    "get_all <- function(html){\n",
    "      html %>% \n",
    "        html_nodes('#list_output') %>%      \n",
    "        html_text() %>% \n",
    "        # Convert the list into a vector\n",
    "        unlist()                             \n",
    "    }\n",
    "\n",
    "get_works <- function(html){\n",
    "    # gets FanFiction.net Fandom names\n",
    "      html %>% \n",
    "        html_nodes('.gray') %>%       # The class name\n",
    "        html_text() %>% \n",
    "        # Convert the list into a vector\n",
    "        unlist()                             \n",
    "    }\n",
    "\n",
    "get_fandomsF <- function(html){\n",
    "    # gets FanFiction.net Fandom names\n",
    "      html %>% \n",
    "        html_nodes('#list_output') %>%  # big list\n",
    "        html_nodes('a') %>%             # narrows down\n",
    "        html_text() %>% \n",
    "        # Convert the list into a vector\n",
    "        unlist()                             \n",
    "    }\n",
    "\n",
    "replace_K <- function(single){\n",
    "    if (grepl(\"K\", single)){\n",
    "        # remove ( ) k\n",
    "        single <- str_replace_all(single, \"[K(]\", \"\")\n",
    "        single <- sub(\")\", \"\", single)\n",
    "        # convert numeric\n",
    "        single <- as.numeric(single)\n",
    "        #multiply by 1000\n",
    "        single <- (single*1000)\n",
    "    }\n",
    "    single <- str_replace_all(single, \"[K(]\", \"\")\n",
    "    single <- sub(\")\", \"\", single)\n",
    "    single <- as.numeric(single)\n",
    "    return(single)\n",
    "}\n",
    "\n",
    "only_latin <- function(List){\n",
    "    # gets rid of non ASCII characters (ex. Japanese characters)\n",
    "    x <- List\n",
    "    Encoding(x) <- \"latin1\"\n",
    "    x <- iconv(x, \"latin1\", \"ASCII\", sub=\"\")\n",
    "    return(x)\n",
    "}\n",
    "\n",
    "do_for_meF <- function(url){\n",
    "    # url and html info\n",
    "    page <- read_html(url)\n",
    "    \n",
    "    # get list of fandoms + clean\n",
    "    n <- get_fandomsF(page)\n",
    "    n <- only_latin(n)\n",
    "    \n",
    "    # get list of correspoding works --> df to replace\n",
    "    w <- get_works(page) \n",
    "    ffA <- data.frame(FANDOM=n, WORKS = w)\n",
    "    #ffA\n",
    "\n",
    "    # convert works to correct numerical value\n",
    "     # i loop\n",
    "    ffworksA <- c()\n",
    "    for (i in 1:(length(w))){\n",
    "        new <- replace_K(w[i])\n",
    "        ffworksA <- c(ffworksA, new)\n",
    "    }\n",
    "    #ffworksA\n",
    "    ffA <- data.frame(FANDOM=n, FF.WORKS = ffworksA, stringsAsFactors=FALSE)\n",
    "    #ffA\n",
    "    return(ffA)\n",
    "        \n",
    "}\n"
   ]
  },
  {
   "cell_type": "markdown",
   "metadata": {},
   "source": [
    "# Categories"
   ]
  },
  {
   "cell_type": "markdown",
   "metadata": {},
   "source": [
    "## ANIME & MANGA"
   ]
  },
  {
   "cell_type": "code",
   "execution_count": null,
   "metadata": {
    "scrolled": true
   },
   "outputs": [],
   "source": [
    "## AO3   WALKTHROUGH (without most functions)\n",
    "\n",
    "# Functions\n",
    "get_fandomsA <- function(html){\n",
    "    # gets both the fandom name and the number of works\n",
    "    html %>% html_nodes(\".tags.index.group\") %>% html_text() %>%\n",
    "    unlist()\n",
    "}\n",
    "\n",
    "ao3urlA <- \"https://archiveofourown.org/media/Anime%20*a*%20Manga/fandoms\"\n",
    "ao3pageA <- read_html(ao3urlA)\n",
    "\n",
    "# create lists\n",
    "ao3_listA = get_fandomsA(ao3pageA)\n",
    "fandoms = c()\n",
    "amounts = c()\n",
    "\n",
    "#remove whitespace\n",
    "for (i in length(ao3_listA)){\n",
    "    #str_split(string, pattern, [n: optional])\n",
    "    #str_split_fixed(string, pattern, n)\n",
    "    #listA2 <- str_split(ao3_listA, \"\\n              \")\n",
    "    ao3_listA2 <- gsub(\"\\n\", \"\", ao3_listA)    # remove?\n",
    "    ao3_listA2 <- gsub(\"   \", \"\", ao3_listA)   # remove?\n",
    "    ao3_listA2 <- gsub(\"  \", \"\", ao3_listA)\n",
    "} \n",
    "\n",
    "# merge into one list \n",
    "ao3_allA <- paste(ao3_listA2, collapse=', ' )\n",
    "#ao3_allA\n",
    "\n",
    "# Split list into individual fandoms\n",
    "x <- strsplit(ao3_allA, \"\\n\\n\") #str_split_fixed(string, pattern, n)\n",
    "x <- unlist(x)\n",
    "#x\n",
    "\n",
    "# divide into seperate vectors (fandom vector & work vector)\n",
    "fandom = c()\n",
    "works = c()\n",
    "for (i in 1:length(x)) {\n",
    "    # test if gets all in list range\n",
    "    # print(x[i])\n",
    "    \n",
    "    # split fandom and work\n",
    "    doe <- x[i]\n",
    "    ray <- strsplit(doe, \"\\n\" )\n",
    "    me <- unlist(ray)\n",
    "    \n",
    "    fandom <- c(fandom, me[2])\n",
    "\n",
    "    fandomA <- only_latin(fandom)\n",
    "    # number of works, converted to numeric type\n",
    "    works <- c(works, me[3])\n",
    "    worksA <- as.numeric(str_remove_all(works, \"[()]\"))\n",
    "    \n",
    "}\n",
    "\n",
    "ao3A <- data.frame(FANDOM=fandomA, AO3.WORKS = worksA, stringsAsFactors=FALSE)\n",
    "ao3A"
   ]
  },
  {
   "cell_type": "code",
   "execution_count": null,
   "metadata": {},
   "outputs": [],
   "source": [
    "po = which(grepl(\"Full\", ao3A$FANDOM))\n",
    "fa <- ao3A[po, ]\n",
    "fa"
   ]
  },
  {
   "cell_type": "code",
   "execution_count": null,
   "metadata": {},
   "outputs": [],
   "source": [
    "# This function does the same as the above steps\n",
    "do_for_meA(\"https://archiveofourown.org/media/Anime%20*a*%20Manga/fandoms\")"
   ]
  },
  {
   "cell_type": "code",
   "execution_count": null,
   "metadata": {},
   "outputs": [],
   "source": [
    "num_fandoms(ao3A)"
   ]
  },
  {
   "cell_type": "code",
   "execution_count": null,
   "metadata": {
    "scrolled": true
   },
   "outputs": [],
   "source": [
    "# FF WALKTHROUGH\n",
    "\n",
    "url <- (\"https://www.fanfiction.net/anime/?\")\n",
    "page <- read_html(url)\n",
    "n <- get_fandomsF(page)\n",
    "n <- only_latin(n)\n",
    "w <- get_works(page)\n",
    "ffA <- data.frame(FANDOM=n, WORKS = w)\n",
    "#ffA\n",
    "# i loop\n",
    "ffworksA <- c()\n",
    "for (i in 1:(length(w))){\n",
    "    new <- replace_K(w[i])\n",
    "    ffworksA <- c(ffworksA, new)\n",
    "}\n",
    "#ffworksA\n",
    "ffA <- data.frame(FANDOM=n, FF.WORKS = ffworksA, stringsAsFactors=FALSE)\n",
    "ffA"
   ]
  },
  {
   "cell_type": "code",
   "execution_count": null,
   "metadata": {
    "scrolled": true
   },
   "outputs": [],
   "source": [
    "# same as stuff above\n",
    "ffA <- do_for_meF(\"https://www.fanfiction.net/anime/?\")\n",
    "ffA"
   ]
  },
  {
   "cell_type": "code",
   "execution_count": null,
   "metadata": {
    "scrolled": true
   },
   "outputs": [],
   "source": [
    "totalA <- merge(ffA,ao3A,by=\"FANDOM\", all.x=TRUE, all.y=TRUE)\n",
    "totalA$CATEGORY <- \"Anime/Manga\"\n",
    "totalA$FANDOM[2]"
   ]
  },
  {
   "cell_type": "code",
   "execution_count": null,
   "metadata": {},
   "outputs": [],
   "source": [
    "totalA <- totalA[-1,]"
   ]
  },
  {
   "cell_type": "code",
   "execution_count": null,
   "metadata": {
    "scrolled": true
   },
   "outputs": [],
   "source": [
    "summary(totalA)"
   ]
  },
  {
   "cell_type": "code",
   "execution_count": null,
   "metadata": {},
   "outputs": [],
   "source": [
    "po = which(grepl(\"Yuri\", totalA$FANDOM))\n",
    "fa <- totalA[po, ]\n",
    "fa"
   ]
  },
  {
   "cell_type": "code",
   "execution_count": null,
   "metadata": {},
   "outputs": [],
   "source": [
    "po = which(grepl(\"A\", totalA$FANDOM))\n",
    "fa <- totalA[po, ]\n",
    "fa"
   ]
  },
  {
   "cell_type": "markdown",
   "metadata": {},
   "source": [
    "## BOOKS & LITERATURE"
   ]
  },
  {
   "cell_type": "code",
   "execution_count": null,
   "metadata": {
    "scrolled": true
   },
   "outputs": [],
   "source": [
    "# BOOKS & LIT\n",
    "ffB <- do_for_meF(\"https://www.fanfiction.net/book/\")\n",
    "ao3B <- do_for_meA(\"https://archiveofourown.org/media/Books%20*a*%20Literature/fandoms\")\n",
    "totalB <- merge(ffB,ao3B,by=\"FANDOM\", all.x=TRUE, all.y=TRUE)\n",
    "totalB$CATEGORY <- \"Books/Literature\"\n",
    "print(length(totalB$FANDOM))\n",
    "totalB <- totalB[-1,]\n",
    "totalB"
   ]
  },
  {
   "cell_type": "code",
   "execution_count": null,
   "metadata": {},
   "outputs": [],
   "source": [
    "summary(totalB)"
   ]
  },
  {
   "cell_type": "code",
   "execution_count": null,
   "metadata": {
    "scrolled": true
   },
   "outputs": [],
   "source": [
    "B <- merge(ao3B,ffB,by=\"FANDOM\", all.x=TRUE, all.y=TRUE)\n",
    "B\n",
    "length(B$FF.WORKS)"
   ]
  },
  {
   "cell_type": "code",
   "execution_count": null,
   "metadata": {},
   "outputs": [],
   "source": [
    "#?rbind"
   ]
  },
  {
   "cell_type": "code",
   "execution_count": null,
   "metadata": {},
   "outputs": [],
   "source": [
    "X <- merge(ao3B,ffB,by=\"FANDOM\", all.x=TRUE, all.y=TRUE)\n",
    "X"
   ]
  },
  {
   "cell_type": "code",
   "execution_count": null,
   "metadata": {},
   "outputs": [],
   "source": [
    "x <- cbind()\n",
    "x"
   ]
  },
  {
   "cell_type": "markdown",
   "metadata": {},
   "source": [
    "## CARTOONS/COMICS\n",
    "[COMICS][CARTOONS]  = [CARTOONS/COMICS/GRAPHIC NOVELS]"
   ]
  },
  {
   "cell_type": "code",
   "execution_count": null,
   "metadata": {
    "scrolled": true
   },
   "outputs": [],
   "source": [
    "# COMICS, CARTOONS, GRAPHIC NOVELS\n",
    "\n",
    "ffCa <- do_for_meF(\"https://www.fanfiction.net/cartoon/\")\n",
    "ffCo <- do_for_meF(\"https://www.fanfiction.net/comic/\")\n",
    "ffC <- rbind(ffCa, ffCo)\n",
    "\n",
    "ao3C <- do_for_meA(\"https://archiveofourown.org/media/Cartoons%20*a*%20Comics%20*a*%20Graphic%20Novels/fandoms\")\n",
    "totalC <- merge(ffC,ao3C,by=\"FANDOM\", all.x=TRUE, all.y=TRUE)\n",
    "totalC$CATEGORY <- \"Cartoon/Comic/GraphicNovel\"\n",
    "print(length(totalC$FANDOM))\n",
    "totalC <- totalC[-1,]\n",
    "totalC"
   ]
  },
  {
   "cell_type": "code",
   "execution_count": null,
   "metadata": {},
   "outputs": [],
   "source": [
    "summary(totalC)"
   ]
  },
  {
   "cell_type": "markdown",
   "metadata": {},
   "source": [
    "## GAMES"
   ]
  },
  {
   "cell_type": "code",
   "execution_count": null,
   "metadata": {},
   "outputs": [],
   "source": [
    "# VIDEO GAMES\n",
    "ffG <- do_for_meF(\"https://www.fanfiction.net/game/\")\n",
    "ao3G <- do_for_meA(\"https://archiveofourown.org/media/Video%20Games/fandoms\")\n",
    "totalG <- merge(ffG,ao3G,by=\"FANDOM\", all.x=TRUE, all.y=TRUE)\n",
    "totalG$CATEGORY <- \"Games\"\n",
    "print(length(totalG$FANDOM))\n",
    "totalG <- totalG[-1,]\n",
    "#totalG"
   ]
  },
  {
   "cell_type": "code",
   "execution_count": null,
   "metadata": {},
   "outputs": [],
   "source": [
    "summary(totalG)"
   ]
  },
  {
   "cell_type": "markdown",
   "metadata": {},
   "source": [
    "## MOVIES"
   ]
  },
  {
   "cell_type": "code",
   "execution_count": null,
   "metadata": {},
   "outputs": [],
   "source": [
    "# MOVIES\n",
    "ffM <- do_for_meF(\"https://www.fanfiction.net/movie/\")\n",
    "ao3M <- do_for_meA(\"https://archiveofourown.org/media/Movies/fandoms\")\n",
    "totalM <- merge(ffM,ao3M,by=\"FANDOM\", all.x=TRUE, all.y=TRUE)\n",
    "totalM$CATEGORY <- \"Movies\"\n",
    "print(length(totalM$FANDOM))\n",
    "total <- totalM[-1,]\n",
    "#totalM"
   ]
  },
  {
   "cell_type": "code",
   "execution_count": null,
   "metadata": {},
   "outputs": [],
   "source": [
    "summary(totalM)"
   ]
  },
  {
   "cell_type": "markdown",
   "metadata": {},
   "source": [
    "## TV SHOWS"
   ]
  },
  {
   "cell_type": "code",
   "execution_count": null,
   "metadata": {},
   "outputs": [],
   "source": [
    "# TV shows\n",
    "ffT <- do_for_meF(\"https://www.fanfiction.net/tv/\")\n",
    "ao3T <- do_for_meA(\"https://archiveofourown.org/media/TV%20Shows/fandoms\")\n",
    "totalT <- merge(ffT,ao3T,by=\"FANDOM\", all.x=TRUE, all.y=TRUE)\n",
    "totalT$CATEGORY <- \"TV Shows\"\n",
    "print(length(totalT$FANDOM))\n",
    "totalT <- totalT[-1,]\n",
    "#totalT"
   ]
  },
  {
   "cell_type": "code",
   "execution_count": null,
   "metadata": {},
   "outputs": [],
   "source": [
    "summary(totalT)"
   ]
  },
  {
   "cell_type": "markdown",
   "metadata": {},
   "source": [
    "## PLAYS & THEATER"
   ]
  },
  {
   "cell_type": "code",
   "execution_count": null,
   "metadata": {},
   "outputs": [],
   "source": [
    "# PLAYS & THEATER\n",
    "ffP <- do_for_meF(\"https://www.fanfiction.net/play/\")\n",
    "ao3P <- do_for_meA(\"https://archiveofourown.org/media/Theater/fandoms\")\n",
    "totalP <- merge(ffP,ao3P,by=\"FANDOM\", all.x=TRUE, all.y=TRUE)\n",
    "totalP$CATEGORY <- \"Plays/Theater\"\n",
    "print(length(totalP$FANDOM))\n",
    "totalP <- totalP[-1,]\n",
    "#totalP"
   ]
  },
  {
   "cell_type": "code",
   "execution_count": null,
   "metadata": {},
   "outputs": [],
   "source": [
    "summary(totalP)"
   ]
  },
  {
   "cell_type": "markdown",
   "metadata": {},
   "source": [
    "## TOTALS - MASTER LIST"
   ]
  },
  {
   "cell_type": "code",
   "execution_count": null,
   "metadata": {},
   "outputs": [],
   "source": [
    "master7 <- rbind(totalA, totalB, totalC, totalG, totalM, totalT, totalP) "
   ]
  },
  {
   "cell_type": "code",
   "execution_count": null,
   "metadata": {},
   "outputs": [],
   "source": [
    "print(length(master7$FANDOM))"
   ]
  },
  {
   "cell_type": "code",
   "execution_count": null,
   "metadata": {
    "scrolled": true
   },
   "outputs": [],
   "source": [
    "master7"
   ]
  },
  {
   "cell_type": "code",
   "execution_count": null,
   "metadata": {
    "scrolled": false
   },
   "outputs": [],
   "source": [
    "summary(master7)"
   ]
  },
  {
   "cell_type": "code",
   "execution_count": null,
   "metadata": {},
   "outputs": [],
   "source": [
    "print(\"ArchiveOfOurOwn.org Total Works: \")\n",
    "sum(na.omit(master7$AO3.WORKS))\n",
    "print(\"FanFiction.net Total Works: \")\n",
    "sum(master7$FF.WORKS)"
   ]
  },
  {
   "cell_type": "markdown",
   "metadata": {},
   "source": [
    "# SEARCH METHODS"
   ]
  },
  {
   "cell_type": "code",
   "execution_count": null,
   "metadata": {},
   "outputs": [],
   "source": [
    "# KNOW EXACT FANDOM TITLE \n",
    "\n",
    "# search method\n",
    "position = which(master7$FANDOM==\"Naruto\")\n",
    "       # give number of works in that fandom  <-??\n",
    "found <- master7[position, ]\n",
    "found"
   ]
  },
  {
   "cell_type": "code",
   "execution_count": null,
   "metadata": {},
   "outputs": [],
   "source": [
    "# TO FIND ANY THAT CONTAIN PARTIAL MATCHES\n",
    "\n",
    "#  ***SEARCH METHOD*** !!!!\n",
    "position = which(grepl(\"yuri\", master7$FANDOM))\n",
    "# give number of works in that fandom\n",
    "found <- master7[position, ]\n",
    "found\n"
   ]
  },
  {
   "cell_type": "code",
   "execution_count": null,
   "metadata": {},
   "outputs": [],
   "source": [
    "# TO FIND ANY THAT CONTAIN PARTIAL MATCHES\n",
    "\n",
    "##SEARCH METHOD!!!!!!!!!!!!!!!!!!!!!!!!!!!!!!!!!\n",
    "position = which(grepl(\"the end\", master7$FANDOM))\n",
    "# give number of works in that fandom\n",
    "found <- master7[position, ]\n",
    "found"
   ]
  },
  {
   "cell_type": "markdown",
   "metadata": {},
   "source": [
    "## ++++++++++++++++++SORTED+++++++++++++++++"
   ]
  },
  {
   "cell_type": "markdown",
   "metadata": {},
   "source": [
    "# PLOTTING"
   ]
  },
  {
   "cell_type": "code",
   "execution_count": null,
   "metadata": {
    "scrolled": true
   },
   "outputs": [],
   "source": [
    "# Categories stacked barplot\n",
    "count <- table(master7$CATEGORY)\n",
    "barplot(count, main=\"Works Distribution\",\n",
    "       xlab = \"CATEGORIES\", col=c(\"red\", \"blue\", \"yellow\", \"green\", \"lavender\", \"black\", \"purple\"),\n",
    "        ylab= \"Number of Fandoms\",\n",
    "       legend = rownames(count), args.legend = list(x=\"bottomleft\"))\n"
   ]
  },
  {
   "cell_type": "code",
   "execution_count": null,
   "metadata": {
    "scrolled": false
   },
   "outputs": [],
   "source": [
    "count <- table(master7$FF.WORKS, master7$AO3.WORKS)\n",
    "barplot(count, main=\"Work Distribution between Categories\",\n",
    "       xlab = \"Works\", col=c(\"blue\", \"red\"))"
   ]
  },
  {
   "cell_type": "code",
   "execution_count": null,
   "metadata": {},
   "outputs": [],
   "source": [
    "#table(master7$FF.WORKS, totalA$FF.WORKS)\n",
    "#barplot(count, main=\"Work Distribution between Categories\",\n",
    " #      xlab = \"Works\", col=c(\"blue\", \"red\"))"
   ]
  },
  {
   "cell_type": "markdown",
   "metadata": {},
   "source": [
    "### -------POST-CLASS ADDITIONS-------"
   ]
  },
  {
   "cell_type": "code",
   "execution_count": null,
   "metadata": {},
   "outputs": [],
   "source": [
    "# Establish the location of where I want to save a copy of master7 dataframe; also named by date so not overwrite\n",
    "time <- paste(\"C:\\\\Users\\\\Alexis.000\\\\Desktop\\\\ENGR 122 - Morris\\\\FanFiction Project Folder\\\\Record\\\\\", Sys.Date(), sep = \"\")\n",
    "here <- paste(time, \".csv\", sep = \"\")\n",
    "here\n",
    "# Create CSV file\n",
    "write.csv(master7, here)"
   ]
  },
  {
   "cell_type": "code",
   "execution_count": null,
   "metadata": {},
   "outputs": [],
   "source": [
    "# TO FIND ANY THAT CONTAIN PARTIAL MATCHES\n",
    "#  ***SEARCH METHOD*** !!!!\n",
    "position = which(grepl(\"All Media Types\", master7$FANDOM))\n",
    "found <- master7[position, ]\n",
    "found"
   ]
  },
  {
   "cell_type": "code",
   "execution_count": null,
   "metadata": {},
   "outputs": [],
   "source": []
  }
 ],
 "metadata": {
  "kernelspec": {
   "display_name": "R",
   "language": "R",
   "name": "ir"
  },
  "language_info": {
   "codemirror_mode": "r",
   "file_extension": ".r",
   "mimetype": "text/x-r-source",
   "name": "R",
   "pygments_lexer": "r",
   "version": "3.6.1"
  }
 },
 "nbformat": 4,
 "nbformat_minor": 2
}
